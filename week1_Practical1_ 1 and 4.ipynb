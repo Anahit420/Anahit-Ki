{
 "cells": [
  {
   "cell_type": "code",
   "execution_count": 57,
   "metadata": {},
   "outputs": [
    {
     "name": "stdout",
     "output_type": "stream",
     "text": [
      "0\n"
     ]
    }
   ],
   "source": [
    "def implications3(a,b,c):\n",
    "    return a and b or c\n",
    "print (implications3(1,0,0))"
   ]
  },
  {
   "cell_type": "code",
   "execution_count": 2,
   "metadata": {},
   "outputs": [
    {
     "name": "stdout",
     "output_type": "stream",
     "text": [
      "True\n"
     ]
    }
   ],
   "source": [
    "#Is polindrome or not\n",
    "def canFormPalindrome(str):\n",
    "    list = []\n",
    "    for i in range(len(str)):\n",
    "        if (str[i] in list):\n",
    "            list.remove(str[i])\n",
    "        else:\n",
    "            list.append(str[i])\n",
    "    if (len(str) % 2 == 0 and len(list) == 0 or\\\n",
    "            (len(str) % 2 == 1 and len(list) == 1)):\n",
    "        return True\n",
    "    else:\n",
    "        return False\n",
    "if (canFormPalindrome(\"abbab\")):\n",
    "    print(\"True\")\n",
    "else:\n",
    "    print(\"False\")\n"
   ]
  },
  {
   "cell_type": "code",
   "execution_count": null,
   "metadata": {},
   "outputs": [],
   "source": []
  }
 ],
 "metadata": {
  "kernelspec": {
   "display_name": "Python 3",
   "language": "python",
   "name": "python3"
  },
  "language_info": {
   "codemirror_mode": {
    "name": "ipython",
    "version": 3
   },
   "file_extension": ".py",
   "mimetype": "text/x-python",
   "name": "python",
   "nbconvert_exporter": "python",
   "pygments_lexer": "ipython3",
   "version": "3.6.5"
  }
 },
 "nbformat": 4,
 "nbformat_minor": 2
}
