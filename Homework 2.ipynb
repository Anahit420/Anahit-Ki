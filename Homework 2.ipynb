{
 "cells": [
  {
   "cell_type": "code",
   "execution_count": 1,
   "metadata": {},
   "outputs": [
    {
     "name": "stdout",
     "output_type": "stream",
     "text": [
      "[1, 2, 3]\n"
     ]
    }
   ],
   "source": [
    "def remove(list1):\n",
    "    list2 = []\n",
    "    for num in list1:\n",
    "        if num not in list2:\n",
    "            list2.append(num)\n",
    "    return list2\n",
    "list1 = [1,2,3,1]\n",
    "print (remove(list1))"
   ]
  },
  {
   "cell_type": "code",
   "execution_count": 2,
   "metadata": {},
   "outputs": [
    {
     "name": "stdout",
     "output_type": "stream",
     "text": [
      "[[1, 2], [1, 2, 3]]\n"
     ]
    }
   ],
   "source": [
    "def remove(list1):\n",
    "    list2 = []\n",
    "    for num in list1:\n",
    "        if num not in list2:\n",
    "            list2.append(num)\n",
    "    return list2\n",
    "list1 = [[1,2], [1,2], [1,2,3]]\n",
    "print (remove(list1))"
   ]
  },
  {
   "cell_type": "code",
   "execution_count": 3,
   "metadata": {},
   "outputs": [
    {
     "name": "stdout",
     "output_type": "stream",
     "text": [
      "[[]]\n"
     ]
    }
   ],
   "source": [
    "def remove(list1):\n",
    "    list2 = []\n",
    "    for num in list1:\n",
    "        if num not in list2:\n",
    "            list2.append(num)\n",
    "    return list2\n",
    "list1 = [[],[]]\n",
    "print (remove(list1))"
   ]
  },
  {
   "cell_type": "code",
   "execution_count": null,
   "metadata": {},
   "outputs": [],
   "source": []
  }
 ],
 "metadata": {
  "kernelspec": {
   "display_name": "Python 3",
   "language": "python",
   "name": "python3"
  },
  "language_info": {
   "codemirror_mode": {
    "name": "ipython",
    "version": 3
   },
   "file_extension": ".py",
   "mimetype": "text/x-python",
   "name": "python",
   "nbconvert_exporter": "python",
   "pygments_lexer": "ipython3",
   "version": "3.6.5"
  }
 },
 "nbformat": 4,
 "nbformat_minor": 2
}
